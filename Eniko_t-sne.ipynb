{
 "cells": [
  {
   "cell_type": "code",
   "execution_count": 11,
   "metadata": {},
   "outputs": [],
   "source": [
    "import pandas as pd\n",
    "from nltk.corpus import stopwords\n",
    "from nltk.tokenize import word_tokenize\n",
    "import matplotlib.pyplot as plt\n",
    "import numpy as np\n",
    "import string\n",
    "from gensim.models import Word2Vec\n",
    "from sklearn.manifold import TSNE"
   ]
  },
  {
   "cell_type": "code",
   "execution_count": 22,
   "metadata": {},
   "outputs": [],
   "source": [
    "df = pd.read_csv('./datasets-2019/news/merged_data.csv')"
   ]
  },
  {
   "cell_type": "code",
   "execution_count": 26,
   "metadata": {},
   "outputs": [
    {
     "data": {
      "text/html": [
       "<div>\n",
       "<style scoped>\n",
       "    .dataframe tbody tr th:only-of-type {\n",
       "        vertical-align: middle;\n",
       "    }\n",
       "\n",
       "    .dataframe tbody tr th {\n",
       "        vertical-align: top;\n",
       "    }\n",
       "\n",
       "    .dataframe thead th {\n",
       "        text-align: right;\n",
       "    }\n",
       "</style>\n",
       "<table border=\"1\" class=\"dataframe\">\n",
       "  <thead>\n",
       "    <tr style=\"text-align: right;\">\n",
       "      <th></th>\n",
       "      <th>URL</th>\n",
       "      <th>MatchDateTime</th>\n",
       "      <th>Station</th>\n",
       "      <th>Show</th>\n",
       "      <th>IAShowID</th>\n",
       "      <th>IAPreviewThumb</th>\n",
       "      <th>Snippet</th>\n",
       "      <th>Tokenized_Snippet</th>\n",
       "    </tr>\n",
       "  </thead>\n",
       "  <tbody>\n",
       "    <tr>\n",
       "      <th>0</th>\n",
       "      <td>https://archive.org/details/FOXNEWSW_20190519_...</td>\n",
       "      <td>5/19/2019 15:59:08</td>\n",
       "      <td>FOXNEWS</td>\n",
       "      <td>MediaBuzz</td>\n",
       "      <td>FOXNEWSW_20190519_150000_MediaBuzz</td>\n",
       "      <td>https://archive.org/download/FOXNEWSW_20190519...</td>\n",
       "      <td>leftleaning british newspaper changing languag...</td>\n",
       "      <td>[leftleaning, british, newspaper, changing, la...</td>\n",
       "    </tr>\n",
       "    <tr>\n",
       "      <th>1</th>\n",
       "      <td>https://archive.org/details/FOXNEWSW_20190518_...</td>\n",
       "      <td>5/18/2019 4:30:00</td>\n",
       "      <td>FOXNEWS</td>\n",
       "      <td>Tucker Carlson Tonight</td>\n",
       "      <td>FOXNEWSW_20190518_040000_Tucker_Carlson_Tonight</td>\n",
       "      <td>https://archive.org/download/FOXNEWSW_20190518...</td>\n",
       "      <td>memorable segments show ever run debated engin...</td>\n",
       "      <td>[memorable, segments, show, ever, run, debated...</td>\n",
       "    </tr>\n",
       "    <tr>\n",
       "      <th>2</th>\n",
       "      <td>https://archive.org/details/FOXNEWSW_20190509_...</td>\n",
       "      <td>5/9/2019 21:40:16</td>\n",
       "      <td>FOXNEWS</td>\n",
       "      <td>The Five</td>\n",
       "      <td>FOXNEWSW_20190509_210000_The_Five</td>\n",
       "      <td>https://archive.org/download/FOXNEWSW_20190509...</td>\n",
       "      <td>ground sometimes muslim terrorist say gun cont...</td>\n",
       "      <td>[ground, sometimes, muslim, terrorist, say, gu...</td>\n",
       "    </tr>\n",
       "    <tr>\n",
       "      <th>3</th>\n",
       "      <td>https://archive.org/details/FOXNEWSW_20190506_...</td>\n",
       "      <td>5/6/2019 15:26:00</td>\n",
       "      <td>FOXNEWS</td>\n",
       "      <td>Americas Newsroom With Bill Hemmer and Sandra ...</td>\n",
       "      <td>FOXNEWSW_20190506_130000_Americas_Newsroom_Wit...</td>\n",
       "      <td>https://archive.org/download/FOXNEWSW_20190506...</td>\n",
       "      <td>painting dire picture future blaming man kinds...</td>\n",
       "      <td>[painting, dire, picture, future, blaming, man...</td>\n",
       "    </tr>\n",
       "    <tr>\n",
       "      <th>4</th>\n",
       "      <td>https://archive.org/details/FOXNEWSW_20190527_...</td>\n",
       "      <td>5/27/2019 2:10:30</td>\n",
       "      <td>FOXNEWS</td>\n",
       "      <td>Hannity Special</td>\n",
       "      <td>FOXNEWSW_20190527_020000_Hannity_Special</td>\n",
       "      <td>https://archive.org/download/FOXNEWSW_20190527...</td>\n",
       "      <td>conspiracy channel like roswell new mexico eve...</td>\n",
       "      <td>[conspiracy, channel, like, roswell, new, mexi...</td>\n",
       "    </tr>\n",
       "  </tbody>\n",
       "</table>\n",
       "</div>"
      ],
      "text/plain": [
       "                                                 URL       MatchDateTime  \\\n",
       "0  https://archive.org/details/FOXNEWSW_20190519_...  5/19/2019 15:59:08   \n",
       "1  https://archive.org/details/FOXNEWSW_20190518_...   5/18/2019 4:30:00   \n",
       "2  https://archive.org/details/FOXNEWSW_20190509_...   5/9/2019 21:40:16   \n",
       "3  https://archive.org/details/FOXNEWSW_20190506_...   5/6/2019 15:26:00   \n",
       "4  https://archive.org/details/FOXNEWSW_20190527_...   5/27/2019 2:10:30   \n",
       "\n",
       "   Station                                               Show  \\\n",
       "0  FOXNEWS                                          MediaBuzz   \n",
       "1  FOXNEWS                             Tucker Carlson Tonight   \n",
       "2  FOXNEWS                                           The Five   \n",
       "3  FOXNEWS  Americas Newsroom With Bill Hemmer and Sandra ...   \n",
       "4  FOXNEWS                                    Hannity Special   \n",
       "\n",
       "                                            IAShowID  \\\n",
       "0                 FOXNEWSW_20190519_150000_MediaBuzz   \n",
       "1    FOXNEWSW_20190518_040000_Tucker_Carlson_Tonight   \n",
       "2                  FOXNEWSW_20190509_210000_The_Five   \n",
       "3  FOXNEWSW_20190506_130000_Americas_Newsroom_Wit...   \n",
       "4           FOXNEWSW_20190527_020000_Hannity_Special   \n",
       "\n",
       "                                      IAPreviewThumb  \\\n",
       "0  https://archive.org/download/FOXNEWSW_20190519...   \n",
       "1  https://archive.org/download/FOXNEWSW_20190518...   \n",
       "2  https://archive.org/download/FOXNEWSW_20190509...   \n",
       "3  https://archive.org/download/FOXNEWSW_20190506...   \n",
       "4  https://archive.org/download/FOXNEWSW_20190527...   \n",
       "\n",
       "                                             Snippet  \\\n",
       "0  leftleaning british newspaper changing languag...   \n",
       "1  memorable segments show ever run debated engin...   \n",
       "2  ground sometimes muslim terrorist say gun cont...   \n",
       "3  painting dire picture future blaming man kinds...   \n",
       "4  conspiracy channel like roswell new mexico eve...   \n",
       "\n",
       "                                   Tokenized_Snippet  \n",
       "0  [leftleaning, british, newspaper, changing, la...  \n",
       "1  [memorable, segments, show, ever, run, debated...  \n",
       "2  [ground, sometimes, muslim, terrorist, say, gu...  \n",
       "3  [painting, dire, picture, future, blaming, man...  \n",
       "4  [conspiracy, channel, like, roswell, new, mexi...  "
      ]
     },
     "execution_count": 26,
     "metadata": {},
     "output_type": "execute_result"
    }
   ],
   "source": [
    "df.head()"
   ]
  },
  {
   "cell_type": "code",
   "execution_count": 23,
   "metadata": {},
   "outputs": [],
   "source": [
    "stop_words = set(stopwords.words(\"english\"))\n",
    "def preprocess_text(text):\n",
    "    text = text.lower()\n",
    "    text = ''.join([char for char in text if char not in string.punctuation])\n",
    "    text = ' '.join([word for word in text.split() if word not in stop_words])\n",
    "    return text"
   ]
  },
  {
   "cell_type": "code",
   "execution_count": 24,
   "metadata": {},
   "outputs": [],
   "source": [
    "df['Snippet'] = df['Snippet'].apply(preprocess_text)"
   ]
  },
  {
   "cell_type": "code",
   "execution_count": 25,
   "metadata": {},
   "outputs": [],
   "source": [
    "df['Tokenized_Snippet'] = df['Snippet'].apply(lambda x: word_tokenize(x))\n"
   ]
  },
  {
   "cell_type": "code",
   "execution_count": 29,
   "metadata": {},
   "outputs": [],
   "source": [
    "model = Word2Vec(df['Tokenized_Snippet'], vector_size=100, window=5, min_count=10, sg=0)\n",
    "# Parameters:\n",
    "# - vector_size: Number of dimensions for word vectors.\n",
    "# - window: Maximum distance between the current and predicted word within a sentence.\n",
    "# - min_count: Ignores all words with a total frequency lower than this.\n",
    "# - sg: Training algorithm. sg=0 for CBOW, sg=1 for Skip-gram."
   ]
  },
  {
   "cell_type": "code",
   "execution_count": null,
   "metadata": {},
   "outputs": [],
   "source": [
    "word_vectors = model.wv\n",
    "\n",
    "# Select a subset of words you want to visualize (e.g., top 100 words)\n",
    "words_to_visualize = list(word_vectors.index_to_key[:200])\n",
    "\n",
    "# Get the word vectors for the selected words and convert to a NumPy array\n",
    "vectors = np.array([word_vectors[word] for word in words_to_visualize])"
   ]
  },
  {
   "cell_type": "code",
   "execution_count": null,
   "metadata": {},
   "outputs": [],
   "source": [
    "# Apply t-SNE to reduce dimensionality\n",
    "tsne = TSNE(n_components=2, random_state=42)\n",
    "word_vectors_2D = tsne.fit_transform(vectors)"
   ]
  },
  {
   "cell_type": "code",
   "execution_count": 31,
   "metadata": {},
   "outputs": [
    {
     "data": {
      "image/png": "[encoded data removed]",
      "text/plain": [
       "<Figure size 1000x800 with 1 Axes>"
      ]
     },
     "metadata": {},
     "output_type": "display_data"
    }
   ],
   "source": [
    "plt.figure(figsize=(10, 8))\n",
    "plt.scatter(word_vectors_2D[:, 0], word_vectors_2D[:, 1])\n",
    "\n",
    "for i, word in enumerate(words_to_visualize):\n",
    "    plt.annotate(word, xy=(word_vectors_2D[i, 0], word_vectors_2D[i, 1]), size=12)\n",
    "\n",
    "plt.show()"
   ]
  },
  {
   "cell_type": "code",
   "execution_count": 33,
   "metadata": {},
   "outputs": [],
   "source": [
    "tsne3D = TSNE(n_components=3, random_state=42)\n",
    "word_vectors_3D = tsne3D.fit_transform(vectors)"
   ]
  },
  {
   "cell_type": "code",
   "execution_count": 34,
   "metadata": {},
   "outputs": [
    {
     "data": {
      "image/png": "[encoded data removed]",
      "text/plain": [
       "<Figure size 640x480 with 1 Axes>"
      ]
     },
     "metadata": {},
     "output_type": "display_data"
    }
   ],
   "source": [
    "fig = plt.figure()\n",
    "ax = fig.add_subplot(111, projection='3d')\n",
    "ax.scatter(word_vectors_3D[:, 0], word_vectors_3D[:, 1], word_vectors_3D[:, 2])\n",
    "plt.show()"
   ]
  },
  {
   "cell_type": "code",
   "execution_count": 35,
   "metadata": {},
   "outputs": [],
   "source": [
    "import plotly.express as px\n"
   ]
  },
  {
   "cell_type": "code",
   "execution_count": 36,
   "metadata": {},
   "outputs": [],
   "source": [
    "df_tsne_3d = pd.DataFrame(data=word_vectors_3D, columns=['Dimension1', 'Dimension2', 'Dimension3'])\n"
   ]
  },
  {
   "cell_type": "code",
   "execution_count": 52,
   "metadata": {},
   "outputs": [
    {
     "data": {
      "application/vnd.plotly.v1+json": {
       "config": {
        "plotlyServerURL": "https://plot.ly"
       },
       "data": [
        {
         "hovertemplate": "Dimension1=%{x}<br>Dimension2=%{y}<br>Dimension3=%{z}<br>text=%{text}<extra></extra>",
         "legendgroup": "",
         "marker": {
          "color": "green",
          "size": 3,
          "symbol": "circle"
         },
         "mode": "markers+text",
         "name": "",
         "scene": "scene",
         "showlegend": false,
         "text": [
          "climate",
          "change",
          "people",
          "global",
          "going",
          "new",
          "one",
          "world",
          "think",
          "get",
          "us",
          "like",
          "president",
          "warming",
          "say",
          "crisis",
          "thats",
          "emissions",
          "issue",
          "greenhouse",
          "would",
          "also",
          "know",
          "well",
          "want",
          "years",
          "trump",
          "dont",
          "said",
          "need",
          "time",
          "could",
          "make",
          "says",
          "see",
          "action",
          "carbon",
          "right",
          "really",
          "im",
          "issues",
          "deal",
          "much",
          "government",
          "way",
          "gas",
          "take",
          "last",
          "things",
          "around",
          "first",
          "country",
          "back",
          "today",
          "look",
          "year",
          "lot",
          "next",
          "news",
          "big",
          "many",
          "scientists",
          "something",
          "talk",
          "go",
          "green",
          "democrats",
          "care",
          "good",
          "talking",
          "bbc",
          "day",
          "come",
          "health",
          "saying",
          "even",
          "hes",
          "threat",
          "uk",
          "part",
          "two",
          "plan",
          "future",
          "planet",
          "united",
          "important",
          "got",
          "economy",
          "believe",
          "real",
          "tackle",
          "weather",
          "across",
          "london",
          "taking",
          "environment",
          "report",
          "un",
          "may",
          "states",
          "help",
          "thank",
          "theres",
          "leaders",
          "gases",
          "actually",
          "problem",
          "theyre",
          "national",
          "democratic",
          "impact",
          "thing",
          "coming",
          "science",
          "every",
          "party",
          "week",
          "cut",
          "countries",
          "still",
          "put",
          "made",
          "fight",
          "trying",
          "address",
          "protests",
          "emergency",
          "top",
          "energy",
          "lets",
          "debate",
          "number",
          "done",
          "campaign",
          "everywhere",
          "temperatures",
          "getting",
          "young",
          "question",
          "work",
          "house",
          "minister",
          "youre",
          "whether",
          "species",
          "comes",
          "state",
          "police",
          "growing",
          "touched",
          "stop",
          "making",
          "water",
          "weve",
          "left",
          "melting",
          "end",
          "candidates",
          "policy",
          "zero",
          "happening",
          "political",
          "major",
          "might",
          "greta",
          "point",
          "looking",
          "protest",
          "combat",
          "doesnt",
          "gun",
          "half",
          "summit",
          "biggest",
          "record",
          "seen",
          "great",
          "effects",
          "donald",
          "voters",
          "sea",
          "place",
          "cant",
          "business",
          "already",
          "enough",
          "sure",
          "york",
          "prime",
          "power",
          "far",
          "public",
          "another",
          "use",
          "ice",
          "live",
          "election",
          "levels",
          "environmental",
          "course"
         ],
         "textfont": {
          "color": "grey"
         },
         "type": "scatter3d",
         "x": [
          29.108705520629883,
          44.555824279785156,
          -33.63789367675781,
          -66.82635498046875,
          19.587421417236328,
          -65.6467056274414,
          -7.12618350982666,
          -61.391937255859375,
          28.572572708129883,
          -59.13106918334961,
          25.96883773803711,
          38.711158752441406,
          -20.068004608154297,
          72.82491302490234,
          3.2805306911468506,
          40.36459732055664,
          57.812870025634766,
          -0.2968170940876007,
          -70.19855499267578,
          16.030561447143555,
          20.215126037597656,
          -39.92399978637695,
          28.30181312561035,
          62.5526123046875,
          23.807796478271484,
          44.5893669128418,
          -3.873685121536255,
          3.378152370452881,
          8.079562187194824,
          -29.618083953857422,
          61.63951873779297,
          75.6767349243164,
          2.2159786224365234,
          -5.7701921463012695,
          58.031436920166016,
          -27.142194747924805,
          -32.696502685546875,
          59.749755859375,
          48.655914306640625,
          73.6522445678711,
          4.164845943450928,
          -87.02192687988281,
          58.26328659057617,
          -48.65500259399414,
          25.014423370361328,
          41.33032989501953,
          -82.97888946533203,
          18.08076286315918,
          52.76472091674805,
          -30.516735076904297,
          40.945274353027344,
          12.892563819885254,
          -2.2539827823638916,
          -22.168758392333984,
          73.60441589355469,
          24.389305114746094,
          78.85660552978516,
          31.726667404174805,
          -7.9180450439453125,
          47.35149002075195,
          36.78767395019531,
          39.52698516845703,
          19.850521087646484,
          79.45137023925781,
          -44.9590950012207,
          -77.01436614990234,
          -75.7980728149414,
          48.495121002197266,
          84.46902465820312,
          57.65104293823242,
          18.027103424072266,
          2.7763326168060303,
          42.6928596496582,
          13.437121391296387,
          -5.0634965896606445,
          10.756550788879395,
          -23.366559982299805,
          -27.049713134765625,
          -33.76474380493164,
          -10.175296783447266,
          10.875836372375488,
          -61.253353118896484,
          -25.874786376953125,
          -45.83397674560547,
          -33.77699661254883,
          56.98478317260742,
          96.4466552734375,
          -28.937789916992188,
          6.836861610412598,
          -7.020864486694336,
          -66.11015319824219,
          65.99608612060547,
          -28.85851287841797,
          -26.225515365600586,
          -4.598611831665039,
          -58.09401321411133,
          -3.373555898666382,
          0.8600035309791565,
          16.854618072509766,
          -1.2480406761169434,
          -54.61903762817383,
          3.796401262283325,
          45.675079345703125,
          2.9694437980651855,
          36.9722785949707,
          10.105982780456543,
          -18.918987274169922,
          8.435579299926758,
          -92.67379760742188,
          -59.9161262512207,
          -1.3112332820892334,
          37.83588409423828,
          31.208234786987305,
          48.618629455566406,
          27.92746925354004,
          -73.94686889648438,
          1.8646825551986694,
          -23.732803344726562,
          -40.04141616821289,
          19.762571334838867,
          -23.053434371948242,
          -3.8142919540405273,
          -43.92524719238281,
          -4.193175792694092,
          -75.21614074707031,
          -19.074548721313477,
          -85.55442810058594,
          -35.402679443359375,
          -48.78791809082031,
          84.35913848876953,
          -35.26219940185547,
          -6.905082702636719,
          33.82189178466797,
          -35.43303680419922,
          -39.8240852355957,
          30.943567276000977,
          26.023923873901367,
          -16.494638442993164,
          44.623313903808594,
          -9.830641746520996,
          -62.99015426635742,
          42.06105422973633,
          67.58741760253906,
          -1.5552961826324463,
          -19.869457244873047,
          -5.673979759216309,
          -39.4283447265625,
          -25.892303466796875,
          49.8443489074707,
          -42.491050720214844,
          -47.640098571777344,
          14.821202278137207,
          4.141078948974609,
          84.224365234375,
          -26.57122230529785,
          -13.051307678222656,
          37.78559875488281,
          -56.313175201416016,
          -20.128881454467773,
          -12.99164867401123,
          75.50752258300781,
          -21.712190628051758,
          -39.82675552368164,
          34.352073669433594,
          -54.13298416137695,
          -79.20513153076172,
          -54.042091369628906,
          -34.881263732910156,
          -54.43950271606445,
          6.806199550628662,
          -9.539016723632812,
          46.22858428955078,
          -6.354640960693359,
          -58.252994537353516,
          30.5582332611084,
          71.66483306884766,
          43.288265228271484,
          15.508835792541504,
          -11.579841613769531,
          -58.75151824951172,
          16.70253562927246,
          -3.376394033432007,
          19.122268676757812,
          -45.43996810913086,
          86.86520385742188,
          -30.239044189453125,
          -10.910116195678711,
          -24.953784942626953,
          42.14139938354492,
          -34.650211334228516,
          -12.785665512084961,
          -34.73317337036133,
          17.92159080505371,
          -38.12388610839844,
          1.0940380096435547,
          12.043614387512207,
          -50.61041259765625,
          26.574146270751953,
          -38.676429748535156,
          15.89123821258545
         ],
         "y": [
          50.85801315307617,
          76.38447570800781,
          -11.511881828308105,
          16.904930114746094,
          8.714675903320312,
          78.68247985839844,
          -33.880615234375,
          52.426185607910156,
          -19.45291519165039,
          -25.491195678710938,
          -20.808561325073242,
          11.502185821533203,
          -29.216218948364258,
          21.918107986450195,
          14.010857582092285,
          69.5776138305664,
          25.9290771484375,
          96.81777954101562,
          -48.15834426879883,
          92.55255889892578,
          38.18049621582031,
          7.175196170806885,
          -38.05130386352539,
          -14.0928373336792,
          -1.0043599605560303,
          -52.70286560058594,
          -48.649879455566406,
          -37.26830291748047,
          13.550056457519531,
          32.98836898803711,
          -3.608264207839966,
          51.924320220947266,
          53.69694519042969,
          34.15889358520508,
          -37.48827362060547,
          73.44609069824219,
          93.41300201416016,
          0.5074206590652466,
          -6.655160903930664,
          -29.636960983276367,
          22.61764144897461,
          51.707637786865234,
          -10.925463676452637,
          54.79662322998047,
          32.376285552978516,
          -46.73875045776367,
          33.26075744628906,
          -28.058433532714844,
          27.33072280883789,
          -47.59623336791992,
          -4.345837593078613,
          65.1777114868164,
          -32.64356994628906,
          0.6513231992721558,
          3.264707088470459,
          -56.00645446777344,
          23.16520881652832,
          -26.349401473999023,
          -54.84069061279297,
          48.1683235168457,
          62.57750701904297,
          -78.14827728271484,
          -21.895469665527344,
          7.37307596206665,
          -17.74175453186035,
          61.379337310791016,
          -45.19813537597656,
          20.651050567626953,
          18.199003219604492,
          17.64008903503418,
          -66.38660430908203,
          14.777800559997559,
          -35.5980224609375,
          46.35834884643555,
          -4.871157646179199,
          -7.353280067443848,
          -54.27263259887695,
          -21.685260772705078,
          46.67781066894531,
          49.67079162597656,
          -14.673476219177246,
          46.7822380065918,
          11.207261085510254,
          15.107131004333496,
          34.383689880371094,
          46.239585876464844,
          -27.161325454711914,
          60.352081298828125,
          -23.53423500061035,
          -7.040811061859131,
          24.36649513244629,
          -66.45545196533203,
          -45.164833068847656,
          -70.9879379272461,
          71.14249420166016,
          16.21398162841797,
          45.5611572265625,
          65.08165740966797,
          34.56471633911133,
          78.25499725341797,
          40.852779388427734,
          -89.4020004272461,
          5.440332412719727,
          85.43386840820312,
          -34.858638763427734,
          17.988014221191406,
          -3.0306127071380615,
          21.663206100463867,
          10.355412483215332,
          -28.749820709228516,
          -70.89140319824219,
          -6.726229667663574,
          -39.53742599487305,
          -51.12959289550781,
          4.455599784851074,
          -37.3073616027832,
          -52.77394485473633,
          91.39019775390625,
          46.18994140625,
          -39.379920959472656,
          38.54214096069336,
          -6.409592628479004,
          25.21097183227539,
          8.191725730895996,
          2.839716911315918,
          -0.031386710703372955,
          -0.08735844492912292,
          -37.43448257446289,
          70.17106628417969,
          -15.378763198852539,
          -43.66843032836914,
          -22.747838973999023,
          24.42953109741211,
          -27.668535232543945,
          -80.15335083007812,
          -93.48064422607422,
          2.4706671237945557,
          -9.40751838684082,
          -22.160242080688477,
          32.90401077270508,
          -14.32296085357666,
          30.71320152282715,
          -15.473745346069336,
          24.42714500427246,
          -85.31246185302734,
          -382.63043212890625,
          -6.143797397613525,
          -70.18424987792969,
          -73.575439453125,
          -78.06963348388672,
          24.932327270507812,
          42.167884826660156,
          -66.67484283447266,
          -40.19232940673828,
          -21.19570541381836,
          -88.80004119873047,
          -27.503459930419922,
          -47.838340759277344,
          23.4038143157959,
          83.42137145996094,
          -46.879825592041016,
          13.662352561950684,
          21.74874496459961,
          19.0651912689209,
          -9.361289978027344,
          -16.881431579589844,
          214.353759765625,
          -0.35325294733047485,
          6.895843982696533,
          -15.023701667785645,
          39.944637298583984,
          -65.0163803100586,
          78.77000427246094,
          21.547218322753906,
          -73.65692901611328,
          -31.286340713500977,
          -14.891969680786133,
          -69.80879974365234,
          -17.983598709106445,
          -45.39241409301758,
          -91.1169662475586,
          47.8179931640625,
          4.758969783782959,
          -12.44807243347168,
          -8.192594528198242,
          15.043874740600586,
          -17.936763763427734,
          76.55592346191406,
          45.121849060058594,
          65.01081085205078,
          7.229557991027832,
          38.77072525024414,
          -1.8393336534500122,
          49.88575744628906,
          -97.02172088623047,
          -47.379512786865234,
          -42.69148254394531,
          -75.85678100585938,
          26.617645263671875,
          -10.648375511169434
         ],
         "z": [
          -80.90845489501953,
          -7.807531833648682,
          95.18814849853516,
          59.463748931884766,
          51.58045196533203,
          -16.436656951904297,
          -67.21649169921875,
          -67.74150085449219,
          55.28171157836914,
          50.341552734375,
          -13.191457748413086,
          -20.841564178466797,
          -100.39785766601562,
          -71.62909698486328,
          -13.851454734802246,
          -21.716426849365234,
          11.01073169708252,
          17.146183013916016,
          23.910520553588867,
          28.7486572265625,
          -11.4384765625,
          -14.249369621276855,
          49.991119384765625,
          13.017269134521484,
          81.4993667602539,
          -56.72978210449219,
          82.92865753173828,
          39.376686096191406,
          -36.64242172241211,
          44.021602630615234,
          -47.58662414550781,
          -10.052507400512695,
          38.02387237548828,
          -46.23911666870117,
          2.857262134552002,
          -26.10514259338379,
          37.18924331665039,
          28.338241577148438,
          60.12632369995117,
          54.86192321777344,
          88.30555725097656,
          0.597976565361023,
          -16.788320541381836,
          -28.62710952758789,
          45.201419830322266,
          82.34123229980469,
          34.71088790893555,
          -86.00968170166016,
          -18.529361724853516,
          39.4419059753418,
          -64.572998046875,
          4.756450653076172,
          -20.187122344970703,
          -47.62834167480469,
          5.641940116882324,
          -51.53911209106445,
          26.44500160217285,
          -72.4457015991211,
          -4.307100296020508,
          15.874678611755371,
          50.35643768310547,
          46.0746955871582,
          28.257152557373047,
          52.1857795715332,
          37.848968505859375,
          -8.99075698852539,
          -9.458268165588379,
          77.41221618652344,
          -25.974998474121094,
          47.657920837402344,
          -7.792888164520264,
          -73.75634002685547,
          -20.222549438476562,
          74.46599578857422,
          -6.213396072387695,
          11.088672637939453,
          72.6235122680664,
          63.41796112060547,
          -45.12165069580078,
          -22.601552963256836,
          -64.53103637695312,
          1.250677466392517,
          64.63186645507812,
          70.11881256103516,
          -81.75567626953125,
          35.40610885620117,
          -29.754762649536133,
          44.88253402709961,
          63.86100769042969,
          62.07466506958008,
          7.427793502807617,
          22.97519874572754,
          22.019704818725586,
          -35.83984375,
          -9.80498218536377,
          -22.67529296875,
          -65.29535675048828,
          -60.296085357666016,
          -35.1907958984375,
          67.09835815429688,
          43.876808166503906,
          -27.420654296875,
          7.910384178161621,
          -38.70448303222656,
          91.15591430664062,
          8.885377883911133,
          46.49985122680664,
          34.170654296875,
          -28.983999252319336,
          -17.799875259399414,
          47.553688049316406,
          38.30937957763672,
          0.738151490688324,
          32.18936538696289,
          -79.86931610107422,
          -32.83164596557617,
          -43.58116912841797,
          16.701335906982422,
          -64.92157745361328,
          -24.728843688964844,
          11.150867462158203,
          -27.070880889892578,
          11.235676765441895,
          30.295656204223633,
          22.280590057373047,
          -77.88448333740234,
          -19.556428909301758,
          -56.43437957763672,
          24.179073333740234,
          19.069250106811523,
          -20.100940704345703,
          -52.489681243896484,
          4.9447808265686035,
          -33.84709930419922,
          11.883570671081543,
          18.053997039794922,
          -0.35535356402397156,
          97.10668182373047,
          27.058691024780273,
          23.36368179321289,
          -46.43566131591797,
          -53.97349166870117,
          39.61524963378906,
          56.634544372558594,
          24.654756546020508,
          -123.06822204589844,
          -40.11650466918945,
          -53.20319747924805,
          -8.898810386657715,
          29.2278995513916,
          35.78899383544922,
          22.057071685791016,
          22.96492576599121,
          -25.92609405517578,
          -1.4987359046936035,
          7.750411510467529,
          -45.32244110107422,
          -17.03022003173828,
          -6.161626815795898,
          26.419246673583984,
          16.174467086791992,
          -32.28417205810547,
          -50.426002502441406,
          29.59660530090332,
          -79.28816223144531,
          3.7429070472717285,
          -313.1953125,
          -74.97201538085938,
          13.050580978393555,
          39.65732192993164,
          74.47624969482422,
          -23.338560104370117,
          -53.18479537963867,
          -54.693939208984375,
          -40.03324508666992,
          -36.523216247558594,
          1.59927499294281,
          50.94725036621094,
          -106.27227020263672,
          2.876345634460449,
          31.41744041442871,
          0.04382650926709175,
          24.661354064941406,
          6.799994468688965,
          -13.50391674041748,
          27.40229034423828,
          21.56532859802246,
          -64.260498046875,
          -47.90943145751953,
          8.370260238647461,
          9.542293548583984,
          -11.764667510986328,
          -50.09861755371094,
          21.068233489990234,
          12.960636138916016,
          1.0027695894241333,
          -37.820377349853516,
          25.114795684814453,
          -25.17795181274414,
          -32.709007263183594
         ]
        }
       ],
       "layout": {
        "height": 1000,
        "legend": {
         "tracegroupgap": 0
        },
        "margin": {
         "t": 60
        },
        "scene": {
         "bgcolor": "black",
         "domain": {
          "x": [
           0,
           1
          ],
          "y": [
           0,
           1
          ]
         },
         "xaxis": {
          "backgroundcolor": "black",
          "showbackground": true,
          "showgrid": false,
          "title": {
           "text": "Dimension1"
          }
         },
         "yaxis": {
          "backgroundcolor": "black",
          "showbackground": true,
          "showgrid": false,
          "title": {
           "text": "Dimension2"
          }
         },
         "zaxis": {
          "backgroundcolor": "black",
          "showbackground": true,
          "showgrid": false,
          "title": {
           "text": "Dimension3"
          }
         }
        },
        "template": {
         "data": {
          "bar": [
           {
            "error_x": {
             "color": "#2a3f5f"
            },
            "error_y": {
             "color": "#2a3f5f"
            },
            "marker": {
             "line": {
              "color": "#E5ECF6",
              "width": 0.5
             },
             "pattern": {
              "fillmode": "overlay",
              "size": 10,
              "solidity": 0.2
             }
            },
            "type": "bar"
           }
          ],
          "barpolar": [
           {
            "marker": {
             "line": {
              "color": "#E5ECF6",
              "width": 0.5
             },
             "pattern": {
              "fillmode": "overlay",
              "size": 10,
              "solidity": 0.2
             }
            },
            "type": "barpolar"
           }
          ],
          "carpet": [
           {
            "aaxis": {
             "endlinecolor": "#2a3f5f",
             "gridcolor": "white",
             "linecolor": "white",
             "minorgridcolor": "white",
             "startlinecolor": "#2a3f5f"
            },
            "baxis": {
             "endlinecolor": "#2a3f5f",
             "gridcolor": "white",
             "linecolor": "white",
             "minorgridcolor": "white",
             "startlinecolor": "#2a3f5f"
            },
            "type": "carpet"
           }
          ],
          "choropleth": [
           {
            "colorbar": {
             "outlinewidth": 0,
             "ticks": ""
            },
            "type": "choropleth"
           }
          ],
          "contour": [
           {
            "colorbar": {
             "outlinewidth": 0,
             "ticks": ""
            },
            "colorscale": [
             [
              0,
              "#0d0887"
             ],
             [
              0.1111111111111111,
              "#46039f"
             ],
             [
              0.2222222222222222,
              "#7201a8"
             ],
             [
              0.3333333333333333,
              "#9c179e"
             ],
             [
              0.4444444444444444,
              "#bd3786"
             ],
             [
              0.5555555555555556,
              "#d8576b"
             ],
             [
              0.6666666666666666,
              "#ed7953"
             ],
             [
              0.7777777777777778,
              "#fb9f3a"
             ],
             [
              0.8888888888888888,
              "#fdca26"
             ],
             [
              1,
              "#f0f921"
             ]
            ],
            "type": "contour"
           }
          ],
          "contourcarpet": [
           {
            "colorbar": {
             "outlinewidth": 0,
             "ticks": ""
            },
            "type": "contourcarpet"
           }
          ],
          "heatmap": [
           {
            "colorbar": {
             "outlinewidth": 0,
             "ticks": ""
            },
            "colorscale": [
             [
              0,
              "#0d0887"
             ],
             [
              0.1111111111111111,
              "#46039f"
             ],
             [
              0.2222222222222222,
              "#7201a8"
             ],
             [
              0.3333333333333333,
              "#9c179e"
             ],
             [
              0.4444444444444444,
              "#bd3786"
             ],
             [
              0.5555555555555556,
              "#d8576b"
             ],
             [
              0.6666666666666666,
              "#ed7953"
             ],
             [
              0.7777777777777778,
              "#fb9f3a"
             ],
             [
              0.8888888888888888,
              "#fdca26"
             ],
             [
              1,
              "#f0f921"
             ]
            ],
            "type": "heatmap"
           }
          ],
          "heatmapgl": [
           {
            "colorbar": {
             "outlinewidth": 0,
             "ticks": ""
            },
            "colorscale": [
             [
              0,
              "#0d0887"
             ],
             [
              0.1111111111111111,
              "#46039f"
             ],
             [
              0.2222222222222222,
              "#7201a8"
             ],
             [
              0.3333333333333333,
              "#9c179e"
             ],
             [
              0.4444444444444444,
              "#bd3786"
             ],
             [
              0.5555555555555556,
              "#d8576b"
             ],
             [
              0.6666666666666666,
              "#ed7953"
             ],
             [
              0.7777777777777778,
              "#fb9f3a"
             ],
             [
              0.8888888888888888,
              "#fdca26"
             ],
             [
              1,
              "#f0f921"
             ]
            ],
            "type": "heatmapgl"
           }
          ],
          "histogram": [
           {
            "marker": {
             "pattern": {
              "fillmode": "overlay",
              "size": 10,
              "solidity": 0.2
             }
            },
            "type": "histogram"
           }
          ],
          "histogram2d": [
           {
            "colorbar": {
             "outlinewidth": 0,
             "ticks": ""
            },
            "colorscale": [
             [
              0,
              "#0d0887"
             ],
             [
              0.1111111111111111,
              "#46039f"
             ],
             [
              0.2222222222222222,
              "#7201a8"
             ],
             [
              0.3333333333333333,
              "#9c179e"
             ],
             [
              0.4444444444444444,
              "#bd3786"
             ],
             [
              0.5555555555555556,
              "#d8576b"
             ],
             [
              0.6666666666666666,
              "#ed7953"
             ],
             [
              0.7777777777777778,
              "#fb9f3a"
             ],
             [
              0.8888888888888888,
              "#fdca26"
             ],
             [
              1,
              "#f0f921"
             ]
            ],
            "type": "histogram2d"
           }
          ],
          "histogram2dcontour": [
           {
            "colorbar": {
             "outlinewidth": 0,
             "ticks": ""
            },
            "colorscale": [
             [
              0,
              "#0d0887"
             ],
             [
              0.1111111111111111,
              "#46039f"
             ],
             [
              0.2222222222222222,
              "#7201a8"
             ],
             [
              0.3333333333333333,
              "#9c179e"
             ],
             [
              0.4444444444444444,
              "#bd3786"
             ],
             [
              0.5555555555555556,
              "#d8576b"
             ],
             [
              0.6666666666666666,
              "#ed7953"
             ],
             [
              0.7777777777777778,
              "#fb9f3a"
             ],
             [
              0.8888888888888888,
              "#fdca26"
             ],
             [
              1,
              "#f0f921"
             ]
            ],
            "type": "histogram2dcontour"
           }
          ],
          "mesh3d": [
           {
            "colorbar": {
             "outlinewidth": 0,
             "ticks": ""
            },
            "type": "mesh3d"
           }
          ],
          "parcoords": [
           {
            "line": {
             "colorbar": {
              "outlinewidth": 0,
              "ticks": ""
             }
            },
            "type": "parcoords"
           }
          ],
          "pie": [
           {
            "automargin": true,
            "type": "pie"
           }
          ],
          "scatter": [
           {
            "fillpattern": {
             "fillmode": "overlay",
             "size": 10,
             "solidity": 0.2
            },
            "type": "scatter"
           }
          ],
          "scatter3d": [
           {
            "line": {
             "colorbar": {
              "outlinewidth": 0,
              "ticks": ""
             }
            },
            "marker": {
             "colorbar": {
              "outlinewidth": 0,
              "ticks": ""
             }
            },
            "type": "scatter3d"
           }
          ],
          "scattercarpet": [
           {
            "marker": {
             "colorbar": {
              "outlinewidth": 0,
              "ticks": ""
             }
            },
            "type": "scattercarpet"
           }
          ],
          "scattergeo": [
           {
            "marker": {
             "colorbar": {
              "outlinewidth": 0,
              "ticks": ""
             }
            },
            "type": "scattergeo"
           }
          ],
          "scattergl": [
           {
            "marker": {
             "colorbar": {
              "outlinewidth": 0,
              "ticks": ""
             }
            },
            "type": "scattergl"
           }
          ],
          "scattermapbox": [
           {
            "marker": {
             "colorbar": {
              "outlinewidth": 0,
              "ticks": ""
             }
            },
            "type": "scattermapbox"
           }
          ],
          "scatterpolar": [
           {
            "marker": {
             "colorbar": {
              "outlinewidth": 0,
              "ticks": ""
             }
            },
            "type": "scatterpolar"
           }
          ],
          "scatterpolargl": [
           {
            "marker": {
             "colorbar": {
              "outlinewidth": 0,
              "ticks": ""
             }
            },
            "type": "scatterpolargl"
           }
          ],
          "scatterternary": [
           {
            "marker": {
             "colorbar": {
              "outlinewidth": 0,
              "ticks": ""
             }
            },
            "type": "scatterternary"
           }
          ],
          "surface": [
           {
            "colorbar": {
             "outlinewidth": 0,
             "ticks": ""
            },
            "colorscale": [
             [
              0,
              "#0d0887"
             ],
             [
              0.1111111111111111,
              "#46039f"
             ],
             [
              0.2222222222222222,
              "#7201a8"
             ],
             [
              0.3333333333333333,
              "#9c179e"
             ],
             [
              0.4444444444444444,
              "#bd3786"
             ],
             [
              0.5555555555555556,
              "#d8576b"
             ],
             [
              0.6666666666666666,
              "#ed7953"
             ],
             [
              0.7777777777777778,
              "#fb9f3a"
             ],
             [
              0.8888888888888888,
              "#fdca26"
             ],
             [
              1,
              "#f0f921"
             ]
            ],
            "type": "surface"
           }
          ],
          "table": [
           {
            "cells": {
             "fill": {
              "color": "#EBF0F8"
             },
             "line": {
              "color": "white"
             }
            },
            "header": {
             "fill": {
              "color": "#C8D4E3"
             },
             "line": {
              "color": "white"
             }
            },
            "type": "table"
           }
          ]
         },
         "layout": {
          "annotationdefaults": {
           "arrowcolor": "#2a3f5f",
           "arrowhead": 0,
           "arrowwidth": 1
          },
          "autotypenumbers": "strict",
          "coloraxis": {
           "colorbar": {
            "outlinewidth": 0,
            "ticks": ""
           }
          },
          "colorscale": {
           "diverging": [
            [
             0,
             "#8e0152"
            ],
            [
             0.1,
             "#c51b7d"
            ],
            [
             0.2,
             "#de77ae"
            ],
            [
             0.3,
             "#f1b6da"
            ],
            [
             0.4,
             "#fde0ef"
            ],
            [
             0.5,
             "#f7f7f7"
            ],
            [
             0.6,
             "#e6f5d0"
            ],
            [
             0.7,
             "#b8e186"
            ],
            [
             0.8,
             "#7fbc41"
            ],
            [
             0.9,
             "#4d9221"
            ],
            [
             1,
             "#276419"
            ]
           ],
           "sequential": [
            [
             0,
             "#0d0887"
            ],
            [
             0.1111111111111111,
             "#46039f"
            ],
            [
             0.2222222222222222,
             "#7201a8"
            ],
            [
             0.3333333333333333,
             "#9c179e"
            ],
            [
             0.4444444444444444,
             "#bd3786"
            ],
            [
             0.5555555555555556,
             "#d8576b"
            ],
            [
             0.6666666666666666,
             "#ed7953"
            ],
            [
             0.7777777777777778,
             "#fb9f3a"
            ],
            [
             0.8888888888888888,
             "#fdca26"
            ],
            [
             1,
             "#f0f921"
            ]
           ],
           "sequentialminus": [
            [
             0,
             "#0d0887"
            ],
            [
             0.1111111111111111,
             "#46039f"
            ],
            [
             0.2222222222222222,
             "#7201a8"
            ],
            [
             0.3333333333333333,
             "#9c179e"
            ],
            [
             0.4444444444444444,
             "#bd3786"
            ],
            [
             0.5555555555555556,
             "#d8576b"
            ],
            [
             0.6666666666666666,
             "#ed7953"
            ],
            [
             0.7777777777777778,
             "#fb9f3a"
            ],
            [
             0.8888888888888888,
             "#fdca26"
            ],
            [
             1,
             "#f0f921"
            ]
           ]
          },
          "colorway": [
           "#636efa",
           "#EF553B",
           "#00cc96",
           "#ab63fa",
           "#FFA15A",
           "#19d3f3",
           "#FF6692",
           "#B6E880",
           "#FF97FF",
           "#FECB52"
          ],
          "font": {
           "color": "#2a3f5f"
          },
          "geo": {
           "bgcolor": "white",
           "lakecolor": "white",
           "landcolor": "#E5ECF6",
           "showlakes": true,
           "showland": true,
           "subunitcolor": "white"
          },
          "hoverlabel": {
           "align": "left"
          },
          "hovermode": "closest",
          "mapbox": {
           "style": "light"
          },
          "paper_bgcolor": "white",
          "plot_bgcolor": "#E5ECF6",
          "polar": {
           "angularaxis": {
            "gridcolor": "white",
            "linecolor": "white",
            "ticks": ""
           },
           "bgcolor": "#E5ECF6",
           "radialaxis": {
            "gridcolor": "white",
            "linecolor": "white",
            "ticks": ""
           }
          },
          "scene": {
           "xaxis": {
            "backgroundcolor": "#E5ECF6",
            "gridcolor": "white",
            "gridwidth": 2,
            "linecolor": "white",
            "showbackground": true,
            "ticks": "",
            "zerolinecolor": "white"
           },
           "yaxis": {
            "backgroundcolor": "#E5ECF6",
            "gridcolor": "white",
            "gridwidth": 2,
            "linecolor": "white",
            "showbackground": true,
            "ticks": "",
            "zerolinecolor": "white"
           },
           "zaxis": {
            "backgroundcolor": "#E5ECF6",
            "gridcolor": "white",
            "gridwidth": 2,
            "linecolor": "white",
            "showbackground": true,
            "ticks": "",
            "zerolinecolor": "white"
           }
          },
          "shapedefaults": {
           "line": {
            "color": "#2a3f5f"
           }
          },
          "ternary": {
           "aaxis": {
            "gridcolor": "white",
            "linecolor": "white",
            "ticks": ""
           },
           "baxis": {
            "gridcolor": "white",
            "linecolor": "white",
            "ticks": ""
           },
           "bgcolor": "#E5ECF6",
           "caxis": {
            "gridcolor": "white",
            "linecolor": "white",
            "ticks": ""
           }
          },
          "title": {
           "x": 0.05
          },
          "xaxis": {
           "automargin": true,
           "gridcolor": "white",
           "linecolor": "white",
           "ticks": "",
           "title": {
            "standoff": 15
           },
           "zerolinecolor": "white",
           "zerolinewidth": 2
          },
          "yaxis": {
           "automargin": true,
           "gridcolor": "white",
           "linecolor": "white",
           "ticks": "",
           "title": {
            "standoff": 15
           },
           "zerolinecolor": "white",
           "zerolinewidth": 2
          }
         }
        },
        "width": 1000
       }
      }
     },
     "metadata": {},
     "output_type": "display_data"
    }
   ],
   "source": [
    "fig_3d = px.scatter_3d(df_tsne_3d, x='Dimension1', y='Dimension2', z='Dimension3', text=words_to_visualize)\n",
    "fig_3d.update_layout(width=1000, height=1000, scene=dict(bgcolor='black'))\n",
    "fig_3d.update_traces(marker=dict(size=3, color='green'), textfont_color='grey') \n",
    "fig_3d.update_layout(scene=dict(\n",
    "    xaxis=dict(showbackground=True, backgroundcolor='black', showgrid=False), \n",
    "    yaxis=dict(showbackground=True, backgroundcolor='black', showgrid=False),\n",
    "    zaxis=dict(showbackground=True, backgroundcolor='black', showgrid=False), \n",
    "))\n",
    "fig_3d.show()\n"
   ]
  }
 ],
 "metadata": {
  "kernelspec": {
   "display_name": "base",
   "language": "python",
   "name": "python3"
  },
  "language_info": {
   "codemirror_mode": {
    "name": "ipython",
    "version": 3
   },
   "file_extension": ".py",
   "mimetype": "text/x-python",
   "name": "python",
   "nbconvert_exporter": "python",
   "pygments_lexer": "ipython3",
   "version": "3.11.4"
  }
 },
 "nbformat": 4,
 "nbformat_minor": 2
}
